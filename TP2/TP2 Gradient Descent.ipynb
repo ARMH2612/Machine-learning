{
 "cells": [
  {
   "cell_type": "markdown",
   "id": "3946717e",
   "metadata": {},
   "source": [
    "# TP 2: La descente du Gradiant\n",
    "### Groupe 3 | Groupe tp 15:\n",
    "- Adda Redouane \n",
    "- Rahiche Messaoud \n",
    "- Krizou Amani \n",
    "- Mendil Yousra"
   ]
  },
  {
   "cell_type": "markdown",
   "id": "8d2e550e",
   "metadata": {},
   "source": [
    "## L'importationdes librairies:"
   ]
  },
  {
   "cell_type": "code",
   "execution_count": 26,
   "id": "ec54c55a",
   "metadata": {},
   "outputs": [],
   "source": [
    "import numpy as np\n",
    "import matplotlib.pyplot as plt"
   ]
  },
  {
   "cell_type": "markdown",
   "id": "12e349d8",
   "metadata": {},
   "source": [
    "## L'importatopn des donnes:"
   ]
  },
  {
   "cell_type": "code",
   "execution_count": 27,
   "id": "1d397875",
   "metadata": {},
   "outputs": [],
   "source": [
    "data = np.genfromtxt('data.csv', delimiter=',', dtype=int)"
   ]
  },
  {
   "cell_type": "code",
   "execution_count": 28,
   "id": "fc16f48a",
   "metadata": {},
   "outputs": [
    {
     "name": "stdout",
     "output_type": "stream",
     "text": [
      "97 97\n"
     ]
    }
   ],
   "source": [
    "intercept=np.ones((data.shape[0],1))\n",
    "X = np.column_stack((intercept,data[:,0]))\n",
    "y = data[:,1]\n",
    "print(len(X), len(y))"
   ]
  },
  {
   "cell_type": "code",
   "execution_count": 29,
   "id": "9ea18bd8",
   "metadata": {},
   "outputs": [
    {
     "data": {
      "text/plain": [
       "Text(0, 0.5, 'Bénéfice x1000')"
      ]
     },
     "execution_count": 29,
     "metadata": {},
     "output_type": "execute_result"
    },
    {
     "data": {
      "image/png": "[encoded data removed]",
      "text/plain": [
       "<Figure size 432x288 with 1 Axes>"
      ]
     },
     "metadata": {
      "needs_background": "light"
     },
     "output_type": "display_data"
    }
   ],
   "source": [
    "plt.scatter(X[:,1],y,marker='x')\n",
    "plt.xlabel('Population x 1000')\n",
    "plt.ylabel('Bénéfice x1000')"
   ]
  },
  {
   "cell_type": "markdown",
   "id": "0dd83d18",
   "metadata": {},
   "source": [
    "## Descente du Gradient : Préparation des fonctions"
   ]
  },
  {
   "cell_type": "markdown",
   "id": "7430fd74",
   "metadata": {},
   "source": [
    "### 1- Calcul du coût:"
   ]
  },
  {
   "cell_type": "markdown",
   "id": "7ee96d10",
   "metadata": {},
   "source": [
    "#### 1.1 La fonction hypothese:"
   ]
  },
  {
   "cell_type": "code",
   "execution_count": 30,
   "id": "6f75479b",
   "metadata": {},
   "outputs": [],
   "source": [
    "def h(x, theta):\n",
    "    return (theta[0] + theta[1]*x)"
   ]
  },
  {
   "cell_type": "code",
   "execution_count": 31,
   "id": "f2360f99",
   "metadata": {},
   "outputs": [],
   "source": [
    "# on a pas bien implemeter cette fonction car elle nous donne des fausses resultats,\n",
    "# par contre la fonction sans vectorisation (computeCost()) marche correctement.\n",
    "def computeCostVect(X, y, theta):\n",
    "    m = len(y)\n",
    "    error = np.dot(X,theta)\n",
    "    cost =  np.sum((1/(2*m)) *(error - y)**2)\n",
    "    return cost;"
   ]
  },
  {
   "cell_type": "code",
   "execution_count": 32,
   "id": "39648de7",
   "metadata": {},
   "outputs": [],
   "source": [
    "def computeCost(X, y, theta):\n",
    "    m = len(y)\n",
    "    hypos = []\n",
    "    # predictions :\n",
    "    for i in range(m):\n",
    "        hypos.append(h(X[i,1],theta))\n",
    "    \n",
    "    # calculating error:\n",
    "    error = 0\n",
    "    for i in range(m):\n",
    "        error += (hypos[i] - y[i])**2\n",
    "    \n",
    "    cost = error/(2*m)\n",
    "    return cost"
   ]
  },
  {
   "cell_type": "code",
   "execution_count": 79,
   "id": "7a252b7d",
   "metadata": {},
   "outputs": [
    {
     "name": "stdout",
     "output_type": "stream",
     "text": [
      "[10.05154639]\n",
      "2665.8556701030925\n"
     ]
    }
   ],
   "source": [
    "# print(y.shape)\n",
    "theta = np.ones((2, 1))\n",
    "cost = computeCost(X,y,theta)\n",
    "cost2 = computeCostVect(X,y,theta)\n",
    "print(cost)\n",
    "print(cost2)"
   ]
  },
  {
   "cell_type": "code",
   "execution_count": 80,
   "id": "6dc37f4a",
   "metadata": {},
   "outputs": [],
   "source": [
    "def gradientDescent(X, y, theta, alpha, iterations):\n",
    "    \n",
    "    cost_hist = np.zeros(iterations)\n",
    "    theta_history = np.zeros((iterations,2))\n",
    "    m = len(X)\n",
    "    theta0 = theta[0]\n",
    "    theta1 = theta[1]\n",
    "    for k in range(iterations):\n",
    "        t0_gradient = 0\n",
    "        t1_gradient = 0\n",
    "        for i in range(m):\n",
    "            x = X[i,1]\n",
    "            Y = y[i]\n",
    "\n",
    "            t1_gradient += (1/m) * x * ((theta0+theta1*x) - Y) \n",
    "            t0_gradient += (1/m) * ((theta0+theta1*x) - Y) \n",
    "\n",
    "\n",
    "        theta0 = theta0 - t0_gradient * alpha\n",
    "        theta1 = theta1 - t1_gradient * alpha\n",
    "        cost_hist[k] = computeCost(X,y,[theta0,theta1])\n",
    "        theta_history[k,:] = [theta0,theta1]\n",
    "\n",
    "    return theta0,theta1, cost_hist,theta_history"
   ]
  },
  {
   "cell_type": "code",
   "execution_count": null,
   "id": "b556b692",
   "metadata": {},
   "outputs": [],
   "source": [
    "\n",
    "    "
   ]
  },
  {
   "cell_type": "markdown",
   "id": "06b92cc2",
   "metadata": {},
   "source": [
    "## Descente du Gradient : Appel des fonctions"
   ]
  },
  {
   "cell_type": "markdown",
   "id": "8835b259",
   "metadata": {},
   "source": [
    "Initialisation de $\\theta_0$ et $\\theta_1$"
   ]
  },
  {
   "cell_type": "code",
   "execution_count": 86,
   "id": "fb70a39c",
   "metadata": {},
   "outputs": [],
   "source": [
    "theta = np.random.randn(2, 1)"
   ]
  },
  {
   "cell_type": "markdown",
   "id": "2f7c9301",
   "metadata": {},
   "source": [
    "Calculer le cout initial"
   ]
  },
  {
   "cell_type": "code",
   "execution_count": 87,
   "id": "d2ffd406",
   "metadata": {},
   "outputs": [
    {
     "name": "stdout",
     "output_type": "stream",
     "text": [
      "[7.31866829]\n"
     ]
    }
   ],
   "source": [
    "initialCost=computeCost(X, y, theta)\n",
    "print(initialCost)"
   ]
  },
  {
   "cell_type": "markdown",
   "id": "cf89204e",
   "metadata": {},
   "source": [
    "Appel des la fonction de calcul du gradient"
   ]
  },
  {
   "cell_type": "code",
   "execution_count": 88,
   "id": "145a084a",
   "metadata": {},
   "outputs": [
    {
     "name": "stderr",
     "output_type": "stream",
     "text": [
      "C:\\Users\\user\\AppData\\Local\\Temp\\ipykernel_13868\\1796353717.py:22: DeprecationWarning: setting an array element with a sequence. This was supported in some cases where the elements are arrays with a single element. For example `np.array([1, np.array([2])], dtype=int)`. In the future this will raise the same ValueError as `np.array([1, [2]], dtype=int)`.\n",
      "  theta_history[k,:] = [theta0,theta1]\n"
     ]
    }
   ],
   "source": [
    "# paramètres\n",
    "iterations = 1500;\n",
    "alpha = 0.01;\n",
    "# Appel\n",
    "theta0,theta1,costs,thetas = gradientDescent(X, y, theta, alpha, iterations);"
   ]
  },
  {
   "cell_type": "code",
   "execution_count": null,
   "id": "3f3730a2",
   "metadata": {},
   "outputs": [],
   "source": []
  },
  {
   "cell_type": "code",
   "execution_count": 89,
   "id": "2486c57d",
   "metadata": {},
   "outputs": [
    {
     "data": {
      "text/plain": [
       "[<matplotlib.lines.Line2D at 0xc9f8df0>,\n",
       " <matplotlib.lines.Line2D at 0xc9f8e20>]"
      ]
     },
     "execution_count": 89,
     "metadata": {},
     "output_type": "execute_result"
    },
    {
     "data": {
      "image/png": "[encoded data removed]",
      "text/plain": [
       "<Figure size 432x288 with 1 Axes>"
      ]
     },
     "metadata": {
      "needs_background": "light"
     },
     "output_type": "display_data"
    }
   ],
   "source": [
    "y_pred=np.matmul(X,theta)\n",
    "plt.scatter(X[:,1],y,marker ='x')\n",
    "plt.xlabel('Population x 1000')\n",
    "plt.ylabel('Chiffre d\\'affaires x1000')\n",
    "plt.plot(X,y_pred)"
   ]
  },
  {
   "cell_type": "markdown",
   "id": "1a648d25",
   "metadata": {},
   "source": [
    "Traçage du coût en fonction de theta0 et theta1"
   ]
  },
  {
   "cell_type": "code",
   "execution_count": 90,
   "id": "d04db2f2",
   "metadata": {
    "scrolled": true
   },
   "outputs": [
    {
     "data": {
      "image/png": "[encoded data removed]",
      "text/plain": [
       "<Figure size 1080x432 with 3 Axes>"
      ]
     },
     "metadata": {
      "needs_background": "light"
     },
     "output_type": "display_data"
    }
   ],
   "source": [
    "\n",
    "plt.figure(figsize=[15,6])\n",
    "\n",
    "plt.subplot(1,3,1)\n",
    "\n",
    "plt.title('Cost function en fonction de nombre d\\'iteration')\n",
    "plt.xlabel('X',fontsize=16)\n",
    "plt.ylabel('cost(X)',fontsize=16)\n",
    "plt.plot(list(range(iterations)), costs)\n",
    "\n",
    "\n",
    "plt.subplot(1,3,2)\n",
    "ax = plt.axes(projection='3d')\n",
    "ax.plot3D(thetas[:,0], thetas[:,1], costs, 'gray')\n",
    "# plt.subplot(1,3,2)\n",
    "# plt.title('Cost function en fonction theta 0')\n",
    "# plt.xlabel('Theta 0',fontsize=16)\n",
    "# plt.ylabel('cost(X)',fontsize=16)\n",
    "# plt.plot(thetas[:,0],costs)\n",
    "\n",
    "\n",
    "# plt.subplot(1,3,3)\n",
    "# plt.title('Cost function en fonction theta 1')\n",
    "# plt.xlabel('Theta 1',fontsize=16)\n",
    "# plt.ylabel('cost(X)',fontsize=16)\n",
    "# plt.plot(thetas[:,1],costs)\n",
    "\n",
    "plt.show()"
   ]
  },
  {
   "cell_type": "markdown",
   "id": "c15a5027",
   "metadata": {},
   "source": [
    "## Prédiction des valeurs de y"
   ]
  },
  {
   "cell_type": "code",
   "execution_count": 91,
   "id": "22e861f8",
   "metadata": {},
   "outputs": [
    {
     "name": "stdout",
     "output_type": "stream",
     "text": [
      "[0.5121953]\n",
      "[4.60329592]\n"
     ]
    }
   ],
   "source": [
    "# Predire pour une opulation = 35,000 et 70,000\n",
    "predict1 = np.matmul([1, 3.5],[theta0,theta1]);\n",
    "print(predict1)\n",
    "\n",
    "predict2 = np.matmul([1, 7.0],[theta0,theta1]);\n",
    "print(predict2)"
   ]
  },
  {
   "cell_type": "markdown",
   "id": "6e36e755",
   "metadata": {},
   "source": [
    "# Régression linéaire à plusieurs variables"
   ]
  },
  {
   "cell_type": "markdown",
   "id": "975f1d66",
   "metadata": {},
   "source": [
    "importation des donnees"
   ]
  },
  {
   "cell_type": "code",
   "execution_count": 92,
   "id": "3cb9c16c",
   "metadata": {},
   "outputs": [
    {
     "data": {
      "text/plain": [
       "(47, 3)"
      ]
     },
     "execution_count": 92,
     "metadata": {},
     "output_type": "execute_result"
    }
   ],
   "source": [
    "dataMulti = np.genfromtxt('dataMulti.csv', delimiter=',', dtype=int)\n",
    "dataMulti.shape"
   ]
  },
  {
   "cell_type": "code",
   "execution_count": 93,
   "id": "df21558a",
   "metadata": {},
   "outputs": [],
   "source": [
    "intercept_m=np.ones((dataMulti.shape[0],1))\n",
    "X1_m = np.column_stack((intercept_m,dataMulti[:,0]))\n",
    "X2_m = np.column_stack((intercept_m,dataMulti[:,1]))\n",
    "y_m = dataMulti[:,2]"
   ]
  },
  {
   "cell_type": "markdown",
   "id": "02294c97",
   "metadata": {},
   "source": [
    "## Redefinition de la fonctions de cout"
   ]
  },
  {
   "cell_type": "markdown",
   "id": "bde8a86b",
   "metadata": {},
   "source": [
    "### La fonction Hypothese multivariable"
   ]
  },
  {
   "cell_type": "code",
   "execution_count": 94,
   "id": "3307ce28",
   "metadata": {},
   "outputs": [],
   "source": [
    "def h_m(x1,x2, theta):\n",
    "    return (theta[0] + theta[1]*x1 + theta[2]*x2)"
   ]
  },
  {
   "cell_type": "code",
   "execution_count": 95,
   "id": "39648de7",
   "metadata": {},
   "outputs": [],
   "source": [
    "def computeCost_m(X1, X2, y, theta):\n",
    "    m = len(y)\n",
    "    hypos = []\n",
    "    # predictions :\n",
    "    for i in range(m):\n",
    "        hypos.append(h_m(X1[i,1],X2[i,1],theta))\n",
    "    \n",
    "    # calculating error:\n",
    "    error = 0\n",
    "    for i in range(m):\n",
    "        error += (hypos[i] - y[i])**2\n",
    "    \n",
    "    cost = error/(2*m)\n",
    "    return cost"
   ]
  },
  {
   "cell_type": "code",
   "execution_count": null,
   "id": "ab2f9dee",
   "metadata": {},
   "outputs": [],
   "source": []
  },
  {
   "cell_type": "code",
   "execution_count": 96,
   "id": "6dc37f4a",
   "metadata": {},
   "outputs": [],
   "source": [
    "def gradientDescent_m(X1,X2, y, theta, alpha, iterations):\n",
    "    \n",
    "    cost_hist = np.zeros(iterations)\n",
    "    theta_history = np.zeros((iterations,3))\n",
    "    m = len(y)\n",
    "    theta0 = theta[0]\n",
    "    theta1 = theta[1]\n",
    "    theta2 = theta[2]\n",
    "    for k in range(iterations):\n",
    "        t0_gradient = 0\n",
    "        t1_gradient = 0\n",
    "        t2_gradient = 0\n",
    "        for i in range(m):\n",
    "            x1 = X1[i,1]\n",
    "            x2 = X2[i,1]\n",
    "            Y = y[i]\n",
    "\n",
    "            t2_gradient += (1/m) * x2 * ((theta0+theta1*x1 + theta2*x2) - Y) \n",
    "            t1_gradient += (1/m) * x1 * ((theta0+theta1*x1 + theta2*x2) - Y) \n",
    "            t0_gradient += (1/m) * ((theta0+theta1*x1 + theta2*x2) - Y) \n",
    "\n",
    "\n",
    "        theta0 = theta0 - t0_gradient * alpha\n",
    "        theta1 = theta1 - t1_gradient * alpha\n",
    "        theta2 = theta2 - t2_gradient * alpha\n",
    "        cost_hist[k] = computeCost(X,y,[theta0,theta1,theta2])\n",
    "        theta_history[k,:] = [theta0,theta1,theta2]\n",
    "\n",
    "    return theta0,theta1, theta2, cost_hist,theta_history"
   ]
  },
  {
   "cell_type": "markdown",
   "id": "4c7ab235",
   "metadata": {
    "id": "NdJaM9m_f2fD"
   },
   "source": [
    "Mise à l'échelle des données"
   ]
  },
  {
   "cell_type": "code",
   "execution_count": 97,
   "id": "a375fdf6",
   "metadata": {},
   "outputs": [],
   "source": [
    "# i think this is normalization:\n",
    "X1_me = (X1_m - np.min(X1_m)) / np.ptp(X1_m) \n",
    "X1_me[:,0] += 1\n",
    "X2_me = (X2_m - np.min(X2_m)) / np.ptp(X2_m) \n",
    "X2_me[:,0] += 1\n"
   ]
  },
  {
   "cell_type": "code",
   "execution_count": 98,
   "id": "d5157499",
   "metadata": {},
   "outputs": [
    {
     "data": {
      "text/plain": [
       "array([[-1.53406342],\n",
       "       [-1.24382517],\n",
       "       [ 0.28307402]])"
      ]
     },
     "execution_count": 98,
     "metadata": {},
     "output_type": "execute_result"
    }
   ],
   "source": [
    "theta_m = np.random.randn(3, 1)\n",
    "theta_m"
   ]
  },
  {
   "cell_type": "markdown",
   "id": "2f7c9301",
   "metadata": {},
   "source": [
    "Calculer le cout initial"
   ]
  },
  {
   "cell_type": "code",
   "execution_count": 99,
   "id": "d2ffd406",
   "metadata": {},
   "outputs": [
    {
     "name": "stdout",
     "output_type": "stream",
     "text": [
      "[6.5592265e+10]\n"
     ]
    }
   ],
   "source": [
    "initialCost_m=computeCost_m(X1_me,X2_me, y_m, theta_m)\n",
    "print(initialCost_m)"
   ]
  },
  {
   "cell_type": "markdown",
   "id": "cf89204e",
   "metadata": {},
   "source": [
    "Appel des la fonction de calcul du gradient"
   ]
  },
  {
   "cell_type": "code",
   "execution_count": 100,
   "id": "145a084a",
   "metadata": {},
   "outputs": [
    {
     "name": "stderr",
     "output_type": "stream",
     "text": [
      "C:\\Users\\user\\AppData\\Local\\Temp\\ipykernel_13868\\317652877.py:27: DeprecationWarning: setting an array element with a sequence. This was supported in some cases where the elements are arrays with a single element. For example `np.array([1, np.array([2])], dtype=int)`. In the future this will raise the same ValueError as `np.array([1, [2]], dtype=int)`.\n",
      "  theta_history[k,:] = [theta0,theta1,theta2]\n"
     ]
    }
   ],
   "source": [
    "# paramètres\n",
    "iterations = 1500;\n",
    "alpha = 0.01;\n",
    "# Appel\n",
    "theta0_m,theta1_m,theta3_m,costs_m,thetas_m = gradientDescent_m(X1_me,X2_me, y_m, theta_m, alpha, iterations);"
   ]
  },
  {
   "cell_type": "code",
   "execution_count": null,
   "id": "2486877a",
   "metadata": {},
   "outputs": [],
   "source": []
  },
  {
   "cell_type": "markdown",
   "id": "70fb5d20",
   "metadata": {},
   "source": [
    "# Vérification de l'implementation\n",
    "Compareson de nos algorithmes à ceux de scikitlearn"
   ]
  },
  {
   "cell_type": "code",
   "execution_count": 101,
   "id": "f9637191",
   "metadata": {},
   "outputs": [
    {
     "name": "stdout",
     "output_type": "stream",
     "text": [
      "0.7088652601000887\n",
      "sklearn : Theta 0 = -3.8087580729621298 theta 1 = [0.         1.19285652]\n",
      "Nos resultat : Theta0 = [-3.57890532] theta 1 = [1.16888589]\n"
     ]
    }
   ],
   "source": [
    "from sklearn.linear_model import LinearRegression\n",
    "reg = LinearRegression().fit(X, y)\n",
    "print(reg.score(X, y))\n",
    "print(f'sklearn : Theta 0 = {reg.intercept_} theta 1 = {reg.coef_}')\n",
    "print(f'Nos resultat : Theta0 = {theta0} theta 1 = {theta1}')"
   ]
  },
  {
   "cell_type": "code",
   "execution_count": null,
   "id": "78c7e9f4",
   "metadata": {},
   "outputs": [],
   "source": []
  },
  {
   "cell_type": "markdown",
   "id": "9c400420",
   "metadata": {},
   "source": [
    "# Renforcement d'apprentissage\n",
    "Mettre ici toute idée qui pourrait renforcer votre apprentissage"
   ]
  },
  {
   "cell_type": "markdown",
   "id": "4ee54edf",
   "metadata": {},
   "source": [
    "- Dans notre cas, on a cree la fonction de calcule de coutssans vectorisarion qi va etre lours si la dataset est grande, doncpour ameliorer notre apprentissage on doit utiliser la vectorisaion.\n",
    "- Le learning rate: sa serait mieux si en change le learning rate jusa'on trouve le learning rate qui rend notre descent du graaaaaient plus rapide "
   ]
  },
  {
   "cell_type": "markdown",
   "id": "202331ff",
   "metadata": {},
   "source": []
  }
 ],
 "metadata": {
  "kernelspec": {
   "display_name": "Python 3 (ipykernel)",
   "language": "python",
   "name": "python3"
  },
  "language_info": {
   "codemirror_mode": {
    "name": "ipython",
    "version": 3
   },
   "file_extension": ".py",
   "mimetype": "text/x-python",
   "name": "python",
   "nbconvert_exporter": "python",
   "pygments_lexer": "ipython3",
   "version": "3.8.0"
  }
 },
 "nbformat": 4,
 "nbformat_minor": 5
}
