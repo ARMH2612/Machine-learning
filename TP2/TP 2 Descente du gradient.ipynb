{
 "cells": [
  {
   "cell_type": "markdown",
   "metadata": {
    "id": "j1_GBEAaf2e0"
   },
   "source": [
    "# TP 2 Descente du Gradient\n",
    "Dans ce TP, nous aimerions prédire le bénéfice d'une entreprise dans plusieurs ville en nous basant sur les habitant de cette ville.\n",
    "\n",
    "Pour ce faire, nous étudierons un ensemble de données avec le bénéfice (y) et les caractéristiques des habitants (X).\n",
    "\n",
    "La prédiction se fera avec l'agorithme de descente du gradient."
   ]
  },
  {
   "cell_type": "markdown",
   "metadata": {
    "id": "xqXVyDtlf2e4"
   },
   "source": [
    "# Importation des librairies necessaires au travail"
   ]
  },
  {
   "cell_type": "code",
   "execution_count": 2,
   "metadata": {
    "id": "Z7Ut1MyHf2e4"
   },
   "outputs": [],
   "source": [
    "import numpy as np\n",
    "import matplotlib.pyplot as plt\n"
   ]
  },
  {
   "cell_type": "markdown",
   "metadata": {
    "id": "ekH1R_JWf2e5"
   },
   "source": [
    "# Lecture des fichiers de données\n",
    "Pour ce TP, nous allons lire les données à partir d'un fichier csv."
   ]
  },
  {
   "cell_type": "code",
   "execution_count": 3,
   "metadata": {
    "id": "GsEfLfb6f2e6",
    "outputId": "6bfb8c10-c80a-43ad-cd7f-7bfcd73e64e6"
   },
   "outputs": [
    {
     "data": {
      "text/plain": [
       "(97, 2)"
      ]
     },
     "execution_count": 3,
     "metadata": {},
     "output_type": "execute_result"
    }
   ],
   "source": [
    "# données\n",
    "data = np.genfromtxt('data.csv', delimiter=',', dtype=int)\n",
    "data.shape"
   ]
  },
  {
   "cell_type": "markdown",
   "metadata": {
    "id": "hYl6Ry2Uf2e7"
   },
   "source": [
    "Dans ces données (data), la première colonne represente la première caractéristique (la population d'une ville x1000), la deuxieme colonne represente le bénéfice (x1000).\n",
    "\n",
    "Chaque ligne represente un exemple de notre ensemble de données. \n",
    "\n",
    "Mettons ces données dans leus vecteurs correspondants."
   ]
  },
  {
   "cell_type": "code",
   "execution_count": 10,
   "metadata": {
    "id": "ocIjARGwf2e7"
   },
   "outputs": [],
   "source": [
    "# rajoutons l'ordonnée à l'origine theta 0\n",
    "intercept=np.ones((data.shape[0],1))\n",
    "X=np.column_stack((intercept,data[:,0]))\n",
    "y = data[:, 1];"
   ]
  },
  {
   "cell_type": "code",
   "execution_count": 11,
   "metadata": {
    "id": "UZzbI6m9f2e8",
    "outputId": "d765b692-dda2-4cd4-ee58-cdc319c8a8c5"
   },
   "outputs": [
    {
     "data": {
      "text/plain": [
       "Text(0, 0.5, 'Bénéfice x1000')"
      ]
     },
     "execution_count": 11,
     "metadata": {},
     "output_type": "execute_result"
    },
    {
     "data": {
      "image/png": "[encoded data removed]",
      "text/plain": [
       "<Figure size 432x288 with 1 Axes>"
      ]
     },
     "metadata": {
      "needs_background": "light"
     },
     "output_type": "display_data"
    }
   ],
   "source": [
    "# traçons ces données pour visualisation\n",
    "plt.scatter(X[:,1],y,marker ='x')\n",
    "plt.xlabel('Population x 1000')\n",
    "plt.ylabel('Bénéfice x1000')"
   ]
  },
  {
   "cell_type": "markdown",
   "metadata": {
    "id": "LEvfJ63Vf2e9"
   },
   "source": [
    "# Descente du Gradient : Préparation des fonctions"
   ]
  },
  {
   "cell_type": "markdown",
   "metadata": {
    "id": "GGTO0spOf2e9"
   },
   "source": [
    "1- Calcul du coût\n",
    "\n",
    "Cette fonction servira à calculer le cout $J(\\theta_0,\\theta_1)$\n",
    "\n",
    "Elle prendra l'ensemble de données d'apprentissage en entrée ainsi que les paramètres définis initialement"
   ]
  },
  {
   "cell_type": "code",
   "execution_count": null,
   "metadata": {
    "id": "Cfi6ay_Lf2e-"
   },
   "outputs": [],
   "source": [
    "def computeCostNonVect(X, y, theta):\n",
    "    # idéalement, tracer le coût à chaque itération pour s'assurer que la descente du gradient est correcte\n",
    "    \n",
    "    # calculer le coût avec et sans vectorisation, \n",
    "    # comparer le temps de traitement\n",
    "    \n",
    "    "
   ]
  },
  {
   "cell_type": "code",
   "execution_count": 13,
   "metadata": {
    "id": "S8QKCQzFf2e-"
   },
   "outputs": [],
   "source": [
    "def computeCost(X, y, theta):\n",
    "    # idéalement, tracer le coût à chaque itération pour s'assurer que la descente du gradient est correcte\n",
    "    \n",
    "    # calculer le coût avec et sans vectorisation, \n",
    "    # comparer le temps de traitement\n",
    "    m = len(y)\n",
    "    predictions = X.dot(theta)\n",
    "    cost = (1/2*m) * np.sum(np.square(predictions-y))\n",
    "    return cost\n",
    "  "
   ]
  },
  {
   "cell_type": "markdown",
   "metadata": {
    "id": "e5y3h-Dif2e_"
   },
   "source": [
    "2- Fonction de la descente du gradient\n",
    "\n",
    "Cette fonction mettra à jour les paramètres $\\theta_0,\\theta_1$ jusqu'à convergence: atteinte du nombre d'itérations max, ou dérivée assez petite."
   ]
  },
  {
   "cell_type": "code",
   "execution_count": null,
   "metadata": {
    "id": "7hLdOX_8f2e_"
   },
   "outputs": [],
   "source": [
    "def gradientDescent(X, y, theta, alpha, iterations):\n",
    "    # garder aussi le cout à chaque itération \n",
    "    # pour afficher le coût en fonction de theta0 et theta1"
   ]
  },
  {
   "cell_type": "markdown",
   "metadata": {
    "id": "Ibj4xistf2e_"
   },
   "source": [
    "# Descente du Gradient : Appel des fonctions"
   ]
  },
  {
   "cell_type": "markdown",
   "metadata": {
    "id": "fndIe1A0f2e_"
   },
   "source": [
    "Initialisation de $\\theta_0$ et $\\theta_1$"
   ]
  },
  {
   "cell_type": "code",
   "execution_count": 8,
   "metadata": {
    "id": "hM0d6keyf2fA"
   },
   "outputs": [],
   "source": [
    "theta = np.zeros((2, 1))"
   ]
  },
  {
   "cell_type": "markdown",
   "metadata": {
    "id": "_QNKuRyMf2fA"
   },
   "source": [
    "Calculer le cout initial"
   ]
  },
  {
   "cell_type": "code",
   "execution_count": 15,
   "metadata": {
    "id": "1k9uq5olf2fA"
   },
   "outputs": [
    {
     "name": "stdout",
     "output_type": "stream",
     "text": [
      "26702742.0\n"
     ]
    }
   ],
   "source": [
    "initialCost=computeCost(X, y, theta)\n",
    "print(initialCost)"
   ]
  },
  {
   "cell_type": "markdown",
   "metadata": {
    "id": "oa2KSvlDf2fA"
   },
   "source": [
    "Appel des la fonction de calcul du gradient"
   ]
  },
  {
   "cell_type": "code",
   "execution_count": null,
   "metadata": {
    "id": "QOAjE5Saf2fA"
   },
   "outputs": [],
   "source": [
    "# paramètres\n",
    "iterations = 1500;\n",
    "alpha = 0.01;\n",
    "# Appel\n",
    "theta = gradientDescent(X, y, theta, alpha, iterations);"
   ]
  },
  {
   "cell_type": "markdown",
   "metadata": {
    "id": "19K_Y5kif2fB"
   },
   "source": [
    "Traçage de la fonction du coût"
   ]
  },
  {
   "cell_type": "markdown",
   "metadata": {
    "id": "OSXiphr2f2fB"
   },
   "source": [
    "Notons que $\\theta^T  x$ est équivalent à $X  \\theta $ où $X= \\begin{pmatrix}\n",
    "..(x^{(1)})^T..\\\\\n",
    "..(x^{(2)})^T..\\\\\n",
    ".\\\\\n",
    ".\\\\\n",
    ".\\\\\n",
    "..(x^{(m)})^T..\n",
    "\\end{pmatrix} $"
   ]
  },
  {
   "cell_type": "code",
   "execution_count": null,
   "metadata": {
    "id": "MkG1iz5qf2fB",
    "outputId": "9c659a66-e423-48f7-ee40-87155019717c"
   },
   "outputs": [
    {
     "data": {
      "text/plain": [
       "[<matplotlib.lines.Line2D at 0x1b87eeae9e8>,\n",
       " <matplotlib.lines.Line2D at 0x1b87eeda978>]"
      ]
     },
     "execution_count": 63,
     "metadata": {},
     "output_type": "execute_result"
    },
    {
     "data": {
      "image/png": "[encoded data removed]",
      "text/plain": [
       "<Figure size 432x288 with 1 Axes>"
      ]
     },
     "metadata": {
      "needs_background": "light"
     },
     "output_type": "display_data"
    }
   ],
   "source": [
    "y_pred=np.matmul(X,theta)\n",
    "plt.scatter(X[:,1],y,marker ='x')\n",
    "plt.xlabel('Population x 1000')\n",
    "plt.ylabel('Chiffre d\\'affaires x1000')\n",
    "plt.plot(X,y_pred)\n",
    "# la ligne du graphe represente le traçage de la fonction hypothèse\n",
    "# la ligne devrait se rapprocher des données après entrainement avec la descente du gredient"
   ]
  },
  {
   "cell_type": "markdown",
   "metadata": {
    "id": "ydF1kmH_f2fB"
   },
   "source": [
    "Traçage du coût en fonction de theta0 et theta1"
   ]
  },
  {
   "cell_type": "code",
   "execution_count": null,
   "metadata": {
    "id": "pvs0tWIFf2fB"
   },
   "outputs": [],
   "source": []
  },
  {
   "cell_type": "markdown",
   "metadata": {
    "id": "2VZ9MGMnf2fC"
   },
   "source": [
    "Prédire des valeurs de y"
   ]
  },
  {
   "cell_type": "code",
   "execution_count": null,
   "metadata": {
    "id": "2vaMZaA0f2fC",
    "outputId": "07c3ca20-2552-4fa5-85c4-8051bed5510a"
   },
   "outputs": [
    {
     "data": {
      "text/plain": [
       "array([0.])"
      ]
     },
     "execution_count": 72,
     "metadata": {},
     "output_type": "execute_result"
    }
   ],
   "source": [
    "# Predire pour une opulation = 35,000 et 70,000\n",
    "predict1 = np.matmul([1, 3.5],theta);\n",
    "predict1"
   ]
  },
  {
   "cell_type": "code",
   "execution_count": null,
   "metadata": {
    "id": "1rQhJ7bEf2fC",
    "outputId": "808f885f-a159-40b3-bc98-19ac1276c00f"
   },
   "outputs": [
    {
     "data": {
      "text/plain": [
       "array([0.])"
      ]
     },
     "execution_count": 73,
     "metadata": {},
     "output_type": "execute_result"
    }
   ],
   "source": [
    "predict2 = np.matmul([1, 7],theta);\n",
    "predict2"
   ]
  },
  {
   "cell_type": "markdown",
   "metadata": {
    "id": "_nksg6iNf2fC"
   },
   "source": [
    "# Régression linéaire à plusieurs variables"
   ]
  },
  {
   "cell_type": "markdown",
   "metadata": {
    "id": "_8j0lTWkf2fC"
   },
   "source": [
    "Proposer, l'aide des fonctions définies precedemment, une regression linéaire lorsque le nombre de descripeurs est supérieur à 1, en utilisant la base d'apprentissage suivante"
   ]
  },
  {
   "cell_type": "code",
   "execution_count": null,
   "metadata": {
    "id": "kSNx25FIf2fC",
    "outputId": "2015ff14-5c51-4c0c-8e04-42d6807e34ad"
   },
   "outputs": [
    {
     "data": {
      "text/plain": [
       "(47, 3)"
      ]
     },
     "execution_count": 64,
     "metadata": {},
     "output_type": "execute_result"
    }
   ],
   "source": [
    "# données\n",
    "dataMulti = np.genfromtxt('dataMulti.csv', delimiter=',', dtype=int)\n",
    "dataMulti.shape"
   ]
  },
  {
   "cell_type": "markdown",
   "metadata": {
    "id": "p0bfXUybf2fD"
   },
   "source": [
    "Pour cette ensemble de données, nous voudrions prédire le prix d'une maison (3ème colonne de dataMulti) à partir de :\n",
    "- sa supérficie (1ère colonne)\n",
    "- son nombre de chambres (2ème colonne)"
   ]
  },
  {
   "cell_type": "code",
   "execution_count": null,
   "metadata": {
    "id": "3u_rp_3xf2fD"
   },
   "outputs": [],
   "source": [
    "# d'abord créer X et y\n"
   ]
  },
  {
   "cell_type": "code",
   "execution_count": null,
   "metadata": {
    "id": "cSKcjaI_f2fD"
   },
   "outputs": [],
   "source": [
    "# redéfinissez vos fonctions de coût si cela est necessaire\n"
   ]
  },
  {
   "cell_type": "markdown",
   "metadata": {
    "id": "NdJaM9m_f2fD"
   },
   "source": [
    "Mise à l'échelle des données"
   ]
  },
  {
   "cell_type": "code",
   "execution_count": null,
   "metadata": {
    "id": "H0H2WkGif2fD"
   },
   "outputs": [],
   "source": []
  },
  {
   "cell_type": "markdown",
   "metadata": {
    "id": "DBcDA_DCf2fD"
   },
   "source": [
    "Normalisation des données en moyenne = 0"
   ]
  },
  {
   "cell_type": "code",
   "execution_count": null,
   "metadata": {
    "id": "OyCIvOb1f2fD"
   },
   "outputs": [],
   "source": []
  },
  {
   "cell_type": "markdown",
   "metadata": {
    "id": "vpQf_JxEf2fD"
   },
   "source": [
    "Appliquer la descente du gradient à plusieurs variables"
   ]
  },
  {
   "cell_type": "code",
   "execution_count": null,
   "metadata": {
    "id": "WLfWC_WIf2fE"
   },
   "outputs": [],
   "source": []
  },
  {
   "cell_type": "markdown",
   "metadata": {
    "id": "Kad6xSS4f2fE"
   },
   "source": [
    "Comparer la descente du gradient avec et sans normalisation\n",
    "- **Exemple**: voir la difference dans le temps de calcul"
   ]
  },
  {
   "cell_type": "code",
   "execution_count": null,
   "metadata": {
    "id": "KVKREJTZf2fE"
   },
   "outputs": [],
   "source": []
  },
  {
   "cell_type": "markdown",
   "metadata": {
    "id": "r9NX3t8wf2fE"
   },
   "source": [
    "# Vérification de l'implementation\n",
    "Comparer vos algorithmes à ceux de scikitlearn"
   ]
  },
  {
   "cell_type": "code",
   "execution_count": null,
   "metadata": {
    "id": "Cb34UwI9f2fE"
   },
   "outputs": [],
   "source": []
  },
  {
   "cell_type": "markdown",
   "metadata": {
    "id": "myj4lVHTf2fE"
   },
   "source": [
    "# Renforcement d'apprentissage\n",
    "Mettre ici toute idée qui pourrait renforcer votre apprentissage"
   ]
  },
  {
   "cell_type": "code",
   "execution_count": null,
   "metadata": {
    "id": "nyk59F2Lf2fE"
   },
   "outputs": [],
   "source": []
  },
  {
   "cell_type": "markdown",
   "metadata": {
    "id": "4GkBHwqHf2fE"
   },
   "source": [
    "# Consignes"
   ]
  },
  {
   "cell_type": "markdown",
   "metadata": {
    "id": "6OLr8Sc6f2fE"
   },
   "source": [
    "Le travail est à remettre par groupe de 4 au maximum [1..4].\n",
    "\n",
    "Le délai est le vendredi 18 Mars 2022 à 22h\n"
   ]
  },
  {
   "cell_type": "code",
   "execution_count": null,
   "metadata": {
    "id": "xJNAftmjf2fF"
   },
   "outputs": [],
   "source": [
    "# bonne chance"
   ]
  }
 ],
 "metadata": {
  "colab": {
   "name": "TP 2 Descente du gradient.ipynb",
   "provenance": []
  },
  "kernelspec": {
   "display_name": "Python 3 (ipykernel)",
   "language": "python",
   "name": "python3"
  },
  "language_info": {
   "codemirror_mode": {
    "name": "ipython",
    "version": 3
   },
   "file_extension": ".py",
   "mimetype": "text/x-python",
   "name": "python",
   "nbconvert_exporter": "python",
   "pygments_lexer": "ipython3",
   "version": "3.9.7"
  }
 },
 "nbformat": 4,
 "nbformat_minor": 1
}
