{
 "cells": [
  {
   "cell_type": "code",
   "execution_count": null,
   "metadata": {},
   "outputs": [],
   "source": [
    "\n"
   ]
  },
  {
   "cell_type": "markdown",
   "metadata": {},
   "source": [
    "# TP 4 Regression logistique avec régularisation\n",
    "### Groupe 3:\n",
    "- Adda Redouane \n",
    "- Rahiche Messaoud \n",
    "- Krizou Amani \n",
    "- Mendil Yousra"
   ]
  },
  {
   "cell_type": "markdown",
   "metadata": {},
   "source": [
    "# Importation des librairies necessaires au travail"
   ]
  },
  {
   "cell_type": "code",
   "execution_count": 20,
   "metadata": {},
   "outputs": [],
   "source": [
    "import numpy as np\n",
    "# import pandas as pd\n",
    "import matplotlib.pyplot as plt\n",
    "mul = np.matmul"
   ]
  },
  {
   "cell_type": "markdown",
   "metadata": {},
   "source": [
    "# Lecture des fichiers de données"
   ]
  },
  {
   "cell_type": "code",
   "execution_count": 21,
   "metadata": {},
   "outputs": [
    {
     "data": {
      "text/plain": [
       "(118, 3)"
      ]
     },
     "execution_count": 21,
     "metadata": {},
     "output_type": "execute_result"
    }
   ],
   "source": [
    "data = np.genfromtxt('data.csv', delimiter=',', dtype=float)\n",
    "data.shape"
   ]
  },
  {
   "cell_type": "code",
   "execution_count": 22,
   "metadata": {},
   "outputs": [],
   "source": [
    "# rajoutons l'ordonnée à l'origine theta 0\n",
    "intercept=np.ones((data.shape[0],1))\n",
    "X=np.column_stack((intercept,data[:,0:2]))\n",
    "y = data[:, 2];\n",
    "# forcer y à avoir une seule colonne\n",
    "y = y.reshape( y.shape[0], 1)"
   ]
  },
  {
   "cell_type": "code",
   "execution_count": 23,
   "metadata": {},
   "outputs": [
    {
     "data": {
      "text/plain": [
       "<matplotlib.collections.PathCollection at 0xc5befb8>"
      ]
     },
     "execution_count": 23,
     "metadata": {},
     "output_type": "execute_result"
    },
    {
     "data": {
      "image/png": "[encoded data removed]",
      "text/plain": [
       "<Figure size 432x288 with 1 Axes>"
      ]
     },
     "metadata": {
      "needs_background": "light"
     },
     "output_type": "display_data"
    }
   ],
   "source": [
    "import matplotlib.pyplot as plt\n",
    "\n",
    "plt.scatter(X[np.where(y==1),1],X[np.where(y==1),2], label=\"accepte\",marker ='o')\n",
    "plt.scatter(X[np.where(y==0),1],X[np.where(y==0),2], label=\"non accepte\",marker ='x')"
   ]
  },
  {
   "cell_type": "markdown",
   "metadata": {},
   "source": [
    "# Transformation de données"
   ]
  },
  {
   "cell_type": "code",
   "execution_count": 24,
   "metadata": {},
   "outputs": [],
   "source": [
    "def mapping(X):\n",
    "    \n",
    "    cols = 28\n",
    "    degree=7\n",
    "    outX= np.ones((X.shape[0],cols))\n",
    "    X1=X[:,1]\n",
    "    X2=X[:,2]\n",
    "    k=0\n",
    "    for i in range(degree):\n",
    "        for j in range(i+1):\n",
    "            outX[:, k] = np.power(X1,i-j)*(np.power(X2,j));\n",
    "            k=k+1\n",
    "    return outX  "
   ]
  },
  {
   "cell_type": "code",
   "execution_count": 25,
   "metadata": {},
   "outputs": [
    {
     "data": {
      "text/plain": [
       "(118, 28)"
      ]
     },
     "execution_count": 25,
     "metadata": {},
     "output_type": "execute_result"
    }
   ],
   "source": [
    "X2=mapping(X)\n",
    "X2.shape"
   ]
  },
  {
   "cell_type": "markdown",
   "metadata": {},
   "source": [
    "# Descente du Gradient : Préparation des fonctions"
   ]
  },
  {
   "cell_type": "markdown",
   "metadata": {},
   "source": [
    "0- Fonction mpgistique (Sigmoid)"
   ]
  },
  {
   "cell_type": "code",
   "execution_count": 26,
   "metadata": {},
   "outputs": [],
   "source": [
    "def Sigmoid(z):\n",
    "    return np.power(1+np.exp(-z),-1)"
   ]
  },
  {
   "cell_type": "markdown",
   "metadata": {},
   "source": [
    "0-1 Fonction d'hypothese:"
   ]
  },
  {
   "cell_type": "code",
   "execution_count": 27,
   "metadata": {},
   "outputs": [],
   "source": [
    "def h(X,theta):\n",
    "    return Sigmoid(np.dot(X,theta))"
   ]
  },
  {
   "cell_type": "code",
   "execution_count": 28,
   "metadata": {},
   "outputs": [
    {
     "data": {
      "text/plain": [
       "4.5397868702434395e-05"
      ]
     },
     "execution_count": 28,
     "metadata": {},
     "output_type": "execute_result"
    }
   ],
   "source": [
    "k=Sigmoid(-10)\n",
    "k"
   ]
  },
  {
   "cell_type": "markdown",
   "metadata": {},
   "source": [
    "1- Calcul du coût"
   ]
  },
  {
   "cell_type": "code",
   "execution_count": 29,
   "metadata": {},
   "outputs": [],
   "source": [
    "def computeCostReg(X,y,theta,lamda):\n",
    "    m = len(y)\n",
    "    predictions = Sigmoid(X @ theta)\n",
    "    error = (-y*np.log(predictions)) - ((1-y)*np.log(1-predictions))\n",
    "    cost = 1/m * sum(error)\n",
    "    regCost = cost + lamda/(2*m) * sum(theta**2)\n",
    "    j_0 = 1/m * (X.transpose() @ (predictions - y))[0]\n",
    "    j_1 = 1/m * (X.transpose() @ (predictions - y))[1:] + (lamda/m) * theta[1:]\n",
    "    grad = np.vstack((j_0[:,np.newaxis], j_1))\n",
    "    return regCost, grad"
   ]
  },
  {
   "cell_type": "markdown",
   "metadata": {},
   "source": [
    "2- Fonction de la descente du gradient"
   ]
  },
  {
   "cell_type": "code",
   "execution_count": 30,
   "metadata": {},
   "outputs": [],
   "source": [
    "def gradientDescent(X, y, theta, alpha, iterations,lamda):\n",
    "    m = len(y)\n",
    "    cost_hist = np.zeros(iterations)\n",
    "    theta_history = np.zeros((iterations,3))\n",
    "    \n",
    "    for i in range(iterations):\n",
    "        cost , grad = computeCostReg(X,y,theta,lamda)\n",
    "        theta = theta - (alpha * grad)\n",
    "        cost_hist[i] = cost\n",
    "    return theta , cost_hist"
   ]
  },
  {
   "cell_type": "code",
   "execution_count": 31,
   "metadata": {},
   "outputs": [],
   "source": [
    "# def compute_gradient(theta,x,y,lambda_):\n",
    "#     m = len(y)\n",
    "#     gradient = np.zeros(n).reshape(n,)\n",
    "#     # theta = theta.reshape(n,1)\n",
    "#     infunc1 = Sigmoid(np.dot(x,theta))-y\n",
    "#     gradient_in = np.dot(x.transpose(),infunc1)/m\n",
    "#     gradient[0] = gradient_in[0,0] # theta(0)\n",
    "#     gradient[1:] = gradient_in[1:,0]+(lambda_*theta[1:,]/m).reshape(n-1,) # theta(j) ; j>0\n",
    "#     gradient = gradient.flatten()\n",
    "#     return gradient, theta"
   ]
  },
  {
   "cell_type": "markdown",
   "metadata": {},
   "source": [
    "# Descente du Gradient : Appel des fonctions"
   ]
  },
  {
   "cell_type": "code",
   "execution_count": 32,
   "metadata": {},
   "outputs": [],
   "source": [
    "def normalization(X):\n",
    "    mu = np.mean(X, axis=0)\n",
    "    sigma = np.std(X, axis=0)\n",
    "    X_Norm = (X - mu)/sigma\n",
    "    return X_Norm"
   ]
  },
  {
   "cell_type": "code",
   "execution_count": null,
   "metadata": {},
   "outputs": [],
   "source": []
  },
  {
   "cell_type": "code",
   "execution_count": 33,
   "metadata": {},
   "outputs": [],
   "source": [
    "n=X2.shape[1]\n",
    "theta = np.zeros((n, 1))"
   ]
  },
  {
   "cell_type": "code",
   "execution_count": 34,
   "metadata": {},
   "outputs": [
    {
     "name": "stdout",
     "output_type": "stream",
     "text": [
      "[0.69314718]\n"
     ]
    }
   ],
   "source": [
    "initialCost, initGrad=computeCostReg(X2,y,theta,0)\n",
    "print(initialCost)"
   ]
  },
  {
   "cell_type": "code",
   "execution_count": 55,
   "metadata": {},
   "outputs": [],
   "source": [
    "# paramètres\n",
    "iterations = 1500;\n",
    "alpha = 0.01;\n",
    "\n",
    "# paramètre de regression\n",
    "lamda = 0;\n",
    "\n",
    "# Appel\n",
    "theta , cost_hist = gradientDescent(X2, y, theta, alpha, iterations,lamda)\n",
    "#  compute_gradient(theta,X, y,lamda);\n",
    "# print(theta)"
   ]
  },
  {
   "cell_type": "code",
   "execution_count": 56,
   "metadata": {},
   "outputs": [
    {
     "data": {
      "text/plain": [
       "Text(0.5, 1.0, 'fonction du cout utilisant la descente du gradiant')"
      ]
     },
     "execution_count": 56,
     "metadata": {},
     "output_type": "execute_result"
    },
    {
     "data": {
      "image/png": "[encoded data removed]",
      "text/plain": [
       "<Figure size 432x288 with 1 Axes>"
      ]
     },
     "metadata": {
      "needs_background": "light"
     },
     "output_type": "display_data"
    }
   ],
   "source": [
    "plt.plot(cost_hist)\n",
    "plt.xlabel(\"Iterations\")\n",
    "plt.ylabel(\"Cost\")\n",
    "plt.title(\"fonction du cout utilisant la descente du gradiant\")\n"
   ]
  },
  {
   "cell_type": "markdown",
   "metadata": {},
   "source": []
  },
  {
   "cell_type": "markdown",
   "metadata": {},
   "source": [
    "# Dessin de la limite de decision (Descision Boundary)"
   ]
  },
  {
   "cell_type": "code",
   "execution_count": 37,
   "metadata": {},
   "outputs": [],
   "source": [
    "def mapFeaturePlot(x1, x2, degree):\n",
    "    export = np.ones(1)\n",
    "    for i in range(1, degree+1):\n",
    "        for j in range(i+1):\n",
    "            terms = (x1**(i-j) * x2**j)\n",
    "            export = np.hstack((export,terms))\n",
    "    return export"
   ]
  },
  {
   "cell_type": "code",
   "execution_count": 57,
   "metadata": {},
   "outputs": [
    {
     "data": {
      "text/plain": [
       "<matplotlib.contour.QuadContourSet at 0xc53f358>"
      ]
     },
     "execution_count": 57,
     "metadata": {},
     "output_type": "execute_result"
    },
    {
     "data": {
      "image/png": "[encoded data removed]",
      "text/plain": [
       "<Figure size 432x288 with 1 Axes>"
      ]
     },
     "metadata": {
      "needs_background": "light"
     },
     "output_type": "display_data"
    }
   ],
   "source": [
    "plt.scatter(X[np.where(y==1),1],X[np.where(y==1),2], label=\"accepte\",marker ='o')\n",
    "plt.scatter(X[np.where(y==0),1],X[np.where(y==0),2], label=\"non accepte\",marker ='x')\n",
    "\n",
    "u_val = np.linspace(-0.75,1,50)\n",
    "v_val = np.linspace(-0.75,1,50)\n",
    "z = np.zeros((len(u_val),len(v_val)))\n",
    "for i in range(len(u_val)):\n",
    "    for j in range(len(v_val)):\n",
    "        z[i,j] = mapFeaturePlot(u_val[i],v_val[j],6) @ theta\n",
    "        # print(z[i,j])\n",
    "\n",
    "plt.contour(u_val,v_val,z.T,0)"
   ]
  },
  {
   "cell_type": "markdown",
   "metadata": {},
   "source": [
    "# Classification (Prédiction)"
   ]
  },
  {
   "cell_type": "code",
   "execution_count": 39,
   "metadata": {},
   "outputs": [],
   "source": [
    "def predict(X,theta):\n",
    "    y_pred = X.dot(theta)\n",
    "    return y_pred>0"
   ]
  },
  {
   "cell_type": "code",
   "execution_count": 58,
   "metadata": {},
   "outputs": [],
   "source": [
    "p = predict(X2, theta)"
   ]
  },
  {
   "cell_type": "markdown",
   "metadata": {},
   "source": [
    "# Qualité du classifieur"
   ]
  },
  {
   "cell_type": "code",
   "execution_count": 59,
   "metadata": {},
   "outputs": [
    {
     "name": "stdout",
     "output_type": "stream",
     "text": [
      "Precision :  80.50847457627118 %\n"
     ]
    }
   ],
   "source": [
    "y_pred=predict(X2, theta)\n",
    "prcision = np.mean(y_pred==y)*100\n",
    "print(\"Precision : \", (np.mean(p==y)*100),\"%\")"
   ]
  },
  {
   "cell_type": "markdown",
   "metadata": {},
   "source": [
    "# Vérification de l'implementation"
   ]
  },
  {
   "cell_type": "code",
   "execution_count": null,
   "metadata": {},
   "outputs": [],
   "source": []
  }
 ],
 "metadata": {
  "interpreter": {
   "hash": "7987c57931f2365761dc2a5f85e647decf73af6edff0c78918b92bfe7c5512ba"
  },
  "kernelspec": {
   "display_name": "Python 3.8.0 32-bit",
   "language": "python",
   "name": "python3"
  },
  "language_info": {
   "codemirror_mode": {
    "name": "ipython",
    "version": 3
   },
   "file_extension": ".py",
   "mimetype": "text/x-python",
   "name": "python",
   "nbconvert_exporter": "python",
   "pygments_lexer": "ipython3",
   "version": "3.8.0"
  },
  "orig_nbformat": 4
 },
 "nbformat": 4,
 "nbformat_minor": 2
}
